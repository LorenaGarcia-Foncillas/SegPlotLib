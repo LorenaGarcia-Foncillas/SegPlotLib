{
 "cells": [
  {
   "cell_type": "code",
   "execution_count": 2,
   "id": "79a2868f",
   "metadata": {},
   "outputs": [],
   "source": [
    "import nibabel as nib\n",
    "import numpy as np\n",
    "import matplotlib.pyplot as plt\n",
    "import ipywidgets as widgets\n",
    "from IPython.display import display"
   ]
  },
  {
   "cell_type": "code",
   "execution_count": null,
   "id": "316a8933",
   "metadata": {},
   "outputs": [],
   "source": [
    "# Load nifti file\n",
    "nifti = nib.load(\"/path/to/file.nii.gz\")\n",
    "data = nifti.get_fdata()\n",
    "voxel_sizes = nifti.header.get_zooms()\n"
   ]
  },
  {
   "cell_type": "code",
   "execution_count": 4,
   "id": "94eb6f8d",
   "metadata": {},
   "outputs": [
    {
     "data": {
      "application/vnd.jupyter.widget-view+json": {
       "model_id": "ae2daf8226f443f6a27489418909f616",
       "version_major": 2,
       "version_minor": 0
      },
      "text/plain": [
       "interactive(children=(IntSlider(value=256, description='Slice', max=511), Output()), _dom_classes=('widget-int…"
      ]
     },
     "metadata": {},
     "output_type": "display_data"
    },
    {
     "data": {
      "text/plain": [
       "<function __main__.plot_slice(index)>"
      ]
     },
     "execution_count": 4,
     "metadata": {},
     "output_type": "execute_result"
    }
   ],
   "source": [
    "# Function to plot a single slice\n",
    "def plot_slice(index):\n",
    "    dx, dy = voxel_sizes[0], voxel_sizes[1]\n",
    "    nx, ny = data.shape[0], data.shape[1]\n",
    "\n",
    "    extent = [0, dx * nx, 0, dy * ny]  # physical dimensions in mm\n",
    "\n",
    "    fig, ax = plt.subplots(figsize=(10, 10))\n",
    "    ax.imshow(np.rot90(data[:, :, index]), cmap='gray', interpolation='nearest', extent=extent)\n",
    "    ax.set_title(f'Axial Slice {index}', fontsize=16)\n",
    "    ax.axis('off')\n",
    "    ax.set_aspect('equal')\n",
    "    plt.subplots_adjust(left=0, right=1, top=1, bottom=0)\n",
    "    plt.show()\n",
    "\n",
    "# Create slider for axial slices\n",
    "axial_slider = widgets.IntSlider(\n",
    "    min=0, \n",
    "    max=data.shape[2]-1, \n",
    "    step=1, \n",
    "    value=data.shape[2] // 2,\n",
    "    description='Slice'\n",
    ")\n",
    "\n",
    "# Interactive display\n",
    "widgets.interact(plot_slice, index=axial_slider)"
   ]
  },
  {
   "cell_type": "code",
   "execution_count": 5,
   "id": "a1665af9",
   "metadata": {},
   "outputs": [
    {
     "data": {
      "application/vnd.jupyter.widget-view+json": {
       "model_id": "303921a334ec47bdb0ffe255d3f26e66",
       "version_major": 2,
       "version_minor": 0
      },
      "text/plain": [
       "VBox(children=(Dropdown(description='View:', options=('Axial', 'Coronal', 'Sagittal'), value='Axial'), IntSlid…"
      ]
     },
     "metadata": {},
     "output_type": "display_data"
    },
    {
     "data": {
      "application/vnd.jupyter.widget-view+json": {
       "model_id": "3c50a4e0023f4d60977a19b3d0adf347",
       "version_major": 2,
       "version_minor": 0
      },
      "text/plain": [
       "Output()"
      ]
     },
     "metadata": {},
     "output_type": "display_data"
    }
   ],
   "source": [
    "\n",
    "# Function to plot a slice in any axis\n",
    "def plot_slice(index, axis):\n",
    "    fig, ax = plt.subplots(figsize=(8, 8))\n",
    "    \n",
    "    if axis == 'Axial':\n",
    "        img = np.rot90(data[:, :, index])\n",
    "        dx, dy = voxel_sizes[0], voxel_sizes[1]\n",
    "        nx, ny = data.shape[0], data.shape[1]\n",
    "    elif axis == 'Coronal':\n",
    "        img = np.rot90(data[:, index, :])\n",
    "        dx, dy = voxel_sizes[0], voxel_sizes[2]\n",
    "        nx, ny = data.shape[0], data.shape[2]\n",
    "    elif axis == 'Sagittal':\n",
    "        img = np.flip(np.rot90(data[index, :, :]), axis=1)#np.rot90(data[index, :, :])\n",
    "        dx, dy = voxel_sizes[1], voxel_sizes[2]\n",
    "        nx, ny = data.shape[1], data.shape[2]\n",
    "        \n",
    "    extent = [0, dx * nx, 0, dy * ny]\n",
    "\n",
    "    ax.imshow(img, cmap='gray', interpolation='nearest', extent=extent)\n",
    "    ax.set_title(f'{axis} Slice {index}', fontsize=14)\n",
    "    ax.axis('off')\n",
    "    ax.set_aspect('equal')\n",
    "    plt.subplots_adjust(left=0, right=1, top=1, bottom=0)\n",
    "    plt.show()\n",
    "\n",
    "# Widgets for axis selection and slider\n",
    "axis_dropdown = widgets.Dropdown(\n",
    "    options=['Axial', 'Coronal', 'Sagittal'],\n",
    "    value='Axial',\n",
    "    description='View:'\n",
    ")\n",
    "\n",
    "slice_slider = widgets.IntSlider(\n",
    "    min=0, \n",
    "    max=data.shape[2]-1, \n",
    "    value=data.shape[2]//2, \n",
    "    description='Slice:'\n",
    ")\n",
    "\n",
    "# Function to update slider limits when axis changes\n",
    "def update_slider(*args):\n",
    "    if axis_dropdown.value == 'Axial':\n",
    "        slice_slider.max = data.shape[2]-1\n",
    "        slice_slider.value = data.shape[2] // 2\n",
    "    elif axis_dropdown.value == 'Coronal':\n",
    "        slice_slider.max = data.shape[1]-1\n",
    "        slice_slider.value = data.shape[1] // 2\n",
    "    elif axis_dropdown.value == 'Sagittal':\n",
    "        slice_slider.max = data.shape[0]-1\n",
    "        slice_slider.value = data.shape[0] // 2\n",
    "\n",
    "axis_dropdown.observe(update_slider, 'value')\n",
    "\n",
    "# Interactive display\n",
    "ui = widgets.VBox([axis_dropdown, slice_slider])\n",
    "out = widgets.interactive_output(plot_slice, {'index': slice_slider, 'axis': axis_dropdown})\n",
    "\n",
    "display(ui, out)\n"
   ]
  }
 ],
 "metadata": {
  "kernelspec": {
   "display_name": "3.11.6",
   "language": "python",
   "name": "python3"
  },
  "language_info": {
   "codemirror_mode": {
    "name": "ipython",
    "version": 3
   },
   "file_extension": ".py",
   "mimetype": "text/x-python",
   "name": "python",
   "nbconvert_exporter": "python",
   "pygments_lexer": "ipython3",
   "version": "3.11.6"
  }
 },
 "nbformat": 4,
 "nbformat_minor": 5
}
